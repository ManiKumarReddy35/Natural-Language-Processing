{
  "nbformat": 4,
  "nbformat_minor": 0,
  "metadata": {
    "kernelspec": {
      "display_name": "Python 3",
      "language": "python",
      "name": "python3"
    },
    "language_info": {
      "codemirror_mode": {
        "name": "ipython",
        "version": 3
      },
      "file_extension": ".py",
      "mimetype": "text/x-python",
      "name": "python",
      "nbconvert_exporter": "python",
      "pygments_lexer": "ipython3",
      "version": "3.7.1"
    },
    "colab": {
      "name": "NLP PROJECT- STANCE DETECTION -NAIVE BAYES - LSTM",
      "provenance": [],
      "collapsed_sections": []
    }
  },
  "cells": [
    {
      "cell_type": "markdown",
      "metadata": {
        "id": "msOjVNSGZJ4b",
        "colab_type": "text"
      },
      "source": [
        "## **IMPORTING REQUIRED MODULES**"
      ]
    },
    {
      "cell_type": "code",
      "metadata": {
        "id": "d6thylMoZJ4f",
        "colab_type": "code",
        "outputId": "4b2303c1-6f9f-4f48-d433-1d3370e5f279",
        "colab": {
          "base_uri": "https://localhost:8080/",
          "height": 146
        }
      },
      "source": [
        "import pandas as pd\n",
        "from nltk.stem import WordNetLemmatizer \n",
        "from nltk import word_tokenize\n",
        "import re\n",
        "import numpy as np\n",
        "from sklearn.preprocessing import StandardScaler\n",
        "from sklearn.feature_extraction.text import CountVectorizer\n",
        "from sklearn.metrics import confusion_matrix\n",
        "from sklearn import metrics\n",
        "from sklearn.naive_bayes import MultinomialNB\n",
        "import sklearn.metrics\n",
        "import warnings\n",
        "warnings.filterwarnings(\"ignore\")\n",
        "import nltk\n",
        "nltk.download('stopwords')\n",
        "from nltk.stem import WordNetLemmatizer\n",
        "nltk.download('wordnet')\n",
        "from nltk.corpus import stopwords\n",
        "stopword = set(stopwords.words('english'))\n",
        "from sklearn.preprocessing import normalize\n",
        "from tqdm import tqdm\n",
        "from keras.models import Sequential\n",
        "from keras.layers import Dense\n",
        "from keras.layers import LSTM\n",
        "from keras.layers.embeddings import Embedding\n",
        "from keras.preprocessing import sequence\n",
        "from keras.layers import Dropout"
      ],
      "execution_count": 1,
      "outputs": [
        {
          "output_type": "stream",
          "text": [
            "[nltk_data] Downloading package stopwords to /root/nltk_data...\n",
            "[nltk_data]   Unzipping corpora/stopwords.zip.\n",
            "[nltk_data] Downloading package wordnet to /root/nltk_data...\n",
            "[nltk_data]   Unzipping corpora/wordnet.zip.\n"
          ],
          "name": "stdout"
        },
        {
          "output_type": "stream",
          "text": [
            "Using TensorFlow backend.\n"
          ],
          "name": "stderr"
        },
        {
          "output_type": "display_data",
          "data": {
            "text/html": [
              "<p style=\"color: red;\">\n",
              "The default version of TensorFlow in Colab will soon switch to TensorFlow 2.x.<br>\n",
              "We recommend you <a href=\"https://www.tensorflow.org/guide/migrate\" target=\"_blank\">upgrade</a> now \n",
              "or ensure your notebook will continue to use TensorFlow 1.x via the <code>%tensorflow_version 1.x</code> magic:\n",
              "<a href=\"https://colab.research.google.com/notebooks/tensorflow_version.ipynb\" target=\"_blank\">more info</a>.</p>\n"
            ],
            "text/plain": [
              "<IPython.core.display.HTML object>"
            ]
          },
          "metadata": {
            "tags": []
          }
        }
      ]
    },
    {
      "cell_type": "markdown",
      "metadata": {
        "id": "ZcmeP19uZJ4m",
        "colab_type": "text"
      },
      "source": [
        "## **MOUNTING THE GOOGLE DRIVE**"
      ]
    },
    {
      "cell_type": "code",
      "metadata": {
        "id": "aDHzNouPbDJl",
        "colab_type": "code",
        "outputId": "6e2ca402-4c12-4416-865c-09b1bfcc6527",
        "colab": {
          "base_uri": "https://localhost:8080/",
          "height": 121
        }
      },
      "source": [
        "from google.colab import drive\n",
        "drive.mount('/content/drive')"
      ],
      "execution_count": 2,
      "outputs": [
        {
          "output_type": "stream",
          "text": [
            "Go to this URL in a browser: https://accounts.google.com/o/oauth2/auth?client_id=947318989803-6bn6qk8qdgf4n4g3pfee6491hc0brc4i.apps.googleusercontent.com&redirect_uri=urn%3aietf%3awg%3aoauth%3a2.0%3aoob&response_type=code&scope=email%20https%3a%2f%2fwww.googleapis.com%2fauth%2fdocs.test%20https%3a%2f%2fwww.googleapis.com%2fauth%2fdrive%20https%3a%2f%2fwww.googleapis.com%2fauth%2fdrive.photos.readonly%20https%3a%2f%2fwww.googleapis.com%2fauth%2fpeopleapi.readonly\n",
            "\n",
            "Enter your authorization code:\n",
            "··········\n",
            "Mounted at /content/drive\n"
          ],
          "name": "stdout"
        }
      ]
    },
    {
      "cell_type": "markdown",
      "metadata": {
        "id": "GFl0lgAVcY9s",
        "colab_type": "text"
      },
      "source": [
        "## **READING THE DATA FROM CSV FILES**"
      ]
    },
    {
      "cell_type": "code",
      "metadata": {
        "id": "KrccoTzoZJ4o",
        "colab_type": "code",
        "colab": {}
      },
      "source": [
        "train_data = pd.read_csv(\"/content/drive/My Drive/train_stance.csv\",engine='python')\n",
        "test_data = pd.read_csv(\"/content/drive/My Drive/test (1).csv\",engine='python',names=['Tweet','Target','Stance','Opinion Towards','Sentiment'])"
      ],
      "execution_count": 0,
      "outputs": []
    },
    {
      "cell_type": "code",
      "metadata": {
        "id": "S0KOwGqIbqTl",
        "colab_type": "code",
        "outputId": "772e8c24-5e36-4305-9fb5-51b719e2357b",
        "colab": {
          "base_uri": "https://localhost:8080/",
          "height": 195
        }
      },
      "source": [
        "train_data.head()"
      ],
      "execution_count": 4,
      "outputs": [
        {
          "output_type": "execute_result",
          "data": {
            "text/html": [
              "<div>\n",
              "<style scoped>\n",
              "    .dataframe tbody tr th:only-of-type {\n",
              "        vertical-align: middle;\n",
              "    }\n",
              "\n",
              "    .dataframe tbody tr th {\n",
              "        vertical-align: top;\n",
              "    }\n",
              "\n",
              "    .dataframe thead th {\n",
              "        text-align: right;\n",
              "    }\n",
              "</style>\n",
              "<table border=\"1\" class=\"dataframe\">\n",
              "  <thead>\n",
              "    <tr style=\"text-align: right;\">\n",
              "      <th></th>\n",
              "      <th>Tweet</th>\n",
              "      <th>Target</th>\n",
              "      <th>Stance</th>\n",
              "      <th>Opinion Towards</th>\n",
              "      <th>Sentiment</th>\n",
              "    </tr>\n",
              "  </thead>\n",
              "  <tbody>\n",
              "    <tr>\n",
              "      <th>0</th>\n",
              "      <td>@tedcruz And, #HandOverTheServer she wiped cle...</td>\n",
              "      <td>Hillary Clinton</td>\n",
              "      <td>AGAINST</td>\n",
              "      <td>1.  The tweet explicitly expresses opinion abo...</td>\n",
              "      <td>neg</td>\n",
              "    </tr>\n",
              "    <tr>\n",
              "      <th>1</th>\n",
              "      <td>Hillary is our best choice if we truly want to...</td>\n",
              "      <td>Hillary Clinton</td>\n",
              "      <td>FAVOR</td>\n",
              "      <td>1.  The tweet explicitly expresses opinion abo...</td>\n",
              "      <td>pos</td>\n",
              "    </tr>\n",
              "    <tr>\n",
              "      <th>2</th>\n",
              "      <td>@TheView I think our country is ready for a fe...</td>\n",
              "      <td>Hillary Clinton</td>\n",
              "      <td>AGAINST</td>\n",
              "      <td>1.  The tweet explicitly expresses opinion abo...</td>\n",
              "      <td>neg</td>\n",
              "    </tr>\n",
              "    <tr>\n",
              "      <th>3</th>\n",
              "      <td>I just gave an unhealthy amount of my hard-ear...</td>\n",
              "      <td>Hillary Clinton</td>\n",
              "      <td>AGAINST</td>\n",
              "      <td>1.  The tweet explicitly expresses opinion abo...</td>\n",
              "      <td>neg</td>\n",
              "    </tr>\n",
              "    <tr>\n",
              "      <th>4</th>\n",
              "      <td>@PortiaABoulger Thank you for adding me to you...</td>\n",
              "      <td>Hillary Clinton</td>\n",
              "      <td>NONE</td>\n",
              "      <td>3.  The tweet is not explicitly expressing opi...</td>\n",
              "      <td>pos</td>\n",
              "    </tr>\n",
              "  </tbody>\n",
              "</table>\n",
              "</div>"
            ],
            "text/plain": [
              "                                               Tweet  ... Sentiment\n",
              "0  @tedcruz And, #HandOverTheServer she wiped cle...  ...       neg\n",
              "1  Hillary is our best choice if we truly want to...  ...       pos\n",
              "2  @TheView I think our country is ready for a fe...  ...       neg\n",
              "3  I just gave an unhealthy amount of my hard-ear...  ...       neg\n",
              "4  @PortiaABoulger Thank you for adding me to you...  ...       pos\n",
              "\n",
              "[5 rows x 5 columns]"
            ]
          },
          "metadata": {
            "tags": []
          },
          "execution_count": 4
        }
      ]
    },
    {
      "cell_type": "code",
      "metadata": {
        "scrolled": true,
        "id": "8AHwbslUZJ44",
        "colab_type": "code",
        "outputId": "6b178f5d-0ae1-4004-db83-7861c4a6a128",
        "colab": {
          "base_uri": "https://localhost:8080/",
          "height": 195
        }
      },
      "source": [
        "test_data.head()"
      ],
      "execution_count": 5,
      "outputs": [
        {
          "output_type": "execute_result",
          "data": {
            "text/html": [
              "<div>\n",
              "<style scoped>\n",
              "    .dataframe tbody tr th:only-of-type {\n",
              "        vertical-align: middle;\n",
              "    }\n",
              "\n",
              "    .dataframe tbody tr th {\n",
              "        vertical-align: top;\n",
              "    }\n",
              "\n",
              "    .dataframe thead th {\n",
              "        text-align: right;\n",
              "    }\n",
              "</style>\n",
              "<table border=\"1\" class=\"dataframe\">\n",
              "  <thead>\n",
              "    <tr style=\"text-align: right;\">\n",
              "      <th></th>\n",
              "      <th>Tweet</th>\n",
              "      <th>Target</th>\n",
              "      <th>Stance</th>\n",
              "      <th>Opinion Towards</th>\n",
              "      <th>Sentiment</th>\n",
              "    </tr>\n",
              "  </thead>\n",
              "  <tbody>\n",
              "    <tr>\n",
              "      <th>0</th>\n",
              "      <td>He who exalts himself shall      be humbled; a...</td>\n",
              "      <td>Atheism</td>\n",
              "      <td>AGAINST</td>\n",
              "      <td>1.  The tweet explicitly expresses opinion abo...</td>\n",
              "      <td>pos</td>\n",
              "    </tr>\n",
              "    <tr>\n",
              "      <th>1</th>\n",
              "      <td>RT @prayerbullets: I remove Nehushtan -previou...</td>\n",
              "      <td>Atheism</td>\n",
              "      <td>AGAINST</td>\n",
              "      <td>1.  The tweet explicitly expresses opinion abo...</td>\n",
              "      <td>other</td>\n",
              "    </tr>\n",
              "    <tr>\n",
              "      <th>2</th>\n",
              "      <td>@Brainman365 @heidtjj @BenjaminLives I have so...</td>\n",
              "      <td>Atheism</td>\n",
              "      <td>AGAINST</td>\n",
              "      <td>1.  The tweet explicitly expresses opinion abo...</td>\n",
              "      <td>pos</td>\n",
              "    </tr>\n",
              "    <tr>\n",
              "      <th>3</th>\n",
              "      <td>#God is utterly powerless without Human interv...</td>\n",
              "      <td>Atheism</td>\n",
              "      <td>AGAINST</td>\n",
              "      <td>1.  The tweet explicitly expresses opinion abo...</td>\n",
              "      <td>neg</td>\n",
              "    </tr>\n",
              "    <tr>\n",
              "      <th>4</th>\n",
              "      <td>@David_Cameron   Miracles of #Multiculturalism...</td>\n",
              "      <td>Atheism</td>\n",
              "      <td>AGAINST</td>\n",
              "      <td>2. The tweet does NOT expresses opinion about ...</td>\n",
              "      <td>neg</td>\n",
              "    </tr>\n",
              "  </tbody>\n",
              "</table>\n",
              "</div>"
            ],
            "text/plain": [
              "                                               Tweet  ... Sentiment\n",
              "0  He who exalts himself shall      be humbled; a...  ...       pos\n",
              "1  RT @prayerbullets: I remove Nehushtan -previou...  ...     other\n",
              "2  @Brainman365 @heidtjj @BenjaminLives I have so...  ...       pos\n",
              "3  #God is utterly powerless without Human interv...  ...       neg\n",
              "4  @David_Cameron   Miracles of #Multiculturalism...  ...       neg\n",
              "\n",
              "[5 rows x 5 columns]"
            ]
          },
          "metadata": {
            "tags": []
          },
          "execution_count": 5
        }
      ]
    },
    {
      "cell_type": "markdown",
      "metadata": {
        "id": "S8dWyGdwcu3O",
        "colab_type": "text"
      },
      "source": [
        "## **VISUALIZING THE BAR PLOT FOR COUNT OF INDIVIDUAL CLASSES PRESENT IN TRAINING SET**"
      ]
    },
    {
      "cell_type": "code",
      "metadata": {
        "id": "qQn30LZUb0Zv",
        "colab_type": "code",
        "outputId": "ecfd255b-92d7-4a94-9c10-ead68b221919",
        "colab": {
          "base_uri": "https://localhost:8080/",
          "height": 316
        }
      },
      "source": [
        "train_data['Stance'].value_counts().plot('bar')"
      ],
      "execution_count": 6,
      "outputs": [
        {
          "output_type": "execute_result",
          "data": {
            "text/plain": [
              "<matplotlib.axes._subplots.AxesSubplot at 0x7f6bb1437630>"
            ]
          },
          "metadata": {
            "tags": []
          },
          "execution_count": 6
        },
        {
          "output_type": "display_data",
          "data": {
            "image/png": "[encoded data removed]",
            "text/plain": [
              "<Figure size 432x288 with 1 Axes>"
            ]
          },
          "metadata": {
            "tags": []
          }
        }
      ]
    },
    {
      "cell_type": "markdown",
      "metadata": {
        "id": "lkxDyQ0DZJ49",
        "colab_type": "text"
      },
      "source": [
        "## **VISUALIZING THE BAR PLOT FOR COUNT OF INDIVIDUAL CLASSES PRESENT IN TEST SET**"
      ]
    },
    {
      "cell_type": "code",
      "metadata": {
        "id": "djEQi8n0cLIx",
        "colab_type": "code",
        "outputId": "246e34ec-91d5-4c3f-e64c-d1f6fc2f90a5",
        "colab": {
          "base_uri": "https://localhost:8080/",
          "height": 316
        }
      },
      "source": [
        "test_data['Stance'].value_counts().plot('bar')"
      ],
      "execution_count": 7,
      "outputs": [
        {
          "output_type": "execute_result",
          "data": {
            "text/plain": [
              "<matplotlib.axes._subplots.AxesSubplot at 0x7f6bb0de7b00>"
            ]
          },
          "metadata": {
            "tags": []
          },
          "execution_count": 7
        },
        {
          "output_type": "display_data",
          "data": {
            "image/png": "[encoded data removed]",
            "text/plain": [
              "<Figure size 432x288 with 1 Axes>"
            ]
          },
          "metadata": {
            "tags": []
          }
        }
      ]
    },
    {
      "cell_type": "code",
      "metadata": {
        "id": "1W-zmzrZR7Ad",
        "colab_type": "code",
        "outputId": "4fc52146-78ed-40a4-f422-357d1fbdcdf7",
        "colab": {
          "base_uri": "https://localhost:8080/",
          "height": 442
        }
      },
      "source": [
        "train_data['Target'].value_counts().plot('bar')"
      ],
      "execution_count": 8,
      "outputs": [
        {
          "output_type": "execute_result",
          "data": {
            "text/plain": [
              "<matplotlib.axes._subplots.AxesSubplot at 0x7f6bb0dc6c88>"
            ]
          },
          "metadata": {
            "tags": []
          },
          "execution_count": 8
        },
        {
          "output_type": "display_data",
          "data": {
            "image/png": "[encoded data removed]",
            "text/plain": [
              "<Figure size 432x288 with 1 Axes>"
            ]
          },
          "metadata": {
            "tags": []
          }
        }
      ]
    },
    {
      "cell_type": "code",
      "metadata": {
        "id": "5NE6rHkbJ9aH",
        "colab_type": "code",
        "outputId": "e86ec084-c7e4-437b-8019-74044f1aa736",
        "colab": {
          "base_uri": "https://localhost:8080/",
          "height": 442
        }
      },
      "source": [
        "test_data['Target'].value_counts().plot('bar')"
      ],
      "execution_count": 9,
      "outputs": [
        {
          "output_type": "execute_result",
          "data": {
            "text/plain": [
              "<matplotlib.axes._subplots.AxesSubplot at 0x7f6bb0d29438>"
            ]
          },
          "metadata": {
            "tags": []
          },
          "execution_count": 9
        },
        {
          "output_type": "display_data",
          "data": {
            "image/png": "[encoded data removed]",
            "text/plain": [
              "<Figure size 432x288 with 1 Axes>"
            ]
          },
          "metadata": {
            "tags": []
          }
        }
      ]
    },
    {
      "cell_type": "markdown",
      "metadata": {
        "id": "FG7yMNa6dKq1",
        "colab_type": "text"
      },
      "source": [
        "## **DIMENSIONS OF TRAINING AND TEST DATA SETS**"
      ]
    },
    {
      "cell_type": "code",
      "metadata": {
        "id": "us5tzbeeZJ4-",
        "colab_type": "code",
        "outputId": "d6a80317-55ab-4b5f-db75-7e949adbaf09",
        "colab": {
          "base_uri": "https://localhost:8080/",
          "height": 50
        }
      },
      "source": [
        "print(\"DIMENSIONS OF TRAINING DATA::\",train_data.shape)\n",
        "print(\"DIMENSIONS OF TEST DATA::\",test_data.shape)"
      ],
      "execution_count": 10,
      "outputs": [
        {
          "output_type": "stream",
          "text": [
            "DIMENSIONS OF TRAINING DATA:: (2914, 5)\n",
            "DIMENSIONS OF TEST DATA:: (1249, 5)\n"
          ],
          "name": "stdout"
        }
      ]
    },
    {
      "cell_type": "markdown",
      "metadata": {
        "id": "h70OmTHQd6hk",
        "colab_type": "text"
      },
      "source": [
        "## **PREPARING THE CUSTOMIZED STOP-WORD LIST(NEGATIVE WORDS ARE NOT CONSIDERED TO BE STOP WORDS)**\n",
        "\n",
        "---\n",
        "\n"
      ]
    },
    {
      "cell_type": "code",
      "metadata": {
        "id": "EiyHa-dyZJ5C",
        "colab_type": "code",
        "outputId": "70f95bde-493f-43e8-880e-f04cb2dcecaf",
        "colab": {
          "base_uri": "https://localhost:8080/",
          "height": 87
        }
      },
      "source": [
        "print(\"TOTAL NUMBER OF STOP WORDS WHEN NEGATIVE WORDS ARE CONSIDERED AS STOP WORDS::\",len(stopword))\n",
        "stopwords=set()\n",
        "neg_words = {\"didn't\",\"shouldn't\",\"hasn't\",\"wasn't\",\"won't\",\"aren't\",\"weren't\",\"doesn't\",\"couldn't\",\"don't\",\"hadn't\",\"shan't\",\"wouldn't\"}\n",
        "for i in stopword:\n",
        "    if i not in neg_words:\n",
        "        stopwords.add(i)\n",
        "print(\"TOTAL NUMBER OF STOP WORDS WHEN NEGATIVE WORDS ARE NOT CONSIDERED AS STOP WORDS::\",(len(stopwords)))\n",
        "print(stopwords)"
      ],
      "execution_count": 11,
      "outputs": [
        {
          "output_type": "stream",
          "text": [
            "TOTAL NUMBER OF STOP WORDS WHEN NEGATIVE WORDS ARE CONSIDERED AS STOP WORDS:: 179\n",
            "TOTAL NUMBER OF STOP WORDS WHEN NEGATIVE WORDS ARE NOT CONSIDERED AS STOP WORDS:: 166\n",
            "{\"you'll\", 'weren', 'haven', 'during', 'there', 'while', 'do', 'will', 'theirs', 'about', 'yourself', 'but', 'over', \"you've\", \"should've\", 'what', 'does', 'won', \"mightn't\", 'those', 'from', 'i', 'some', 'she', \"mustn't\", 'yourselves', 'other', 'doing', 'couldn', 'not', 'down', 'herself', 'of', 'is', 'm', 'how', 'until', 'ain', 'because', \"you're\", 'was', 'off', \"you'd\", 'all', 'own', \"isn't\", 'more', 'are', 've', 'were', 'before', 'no', 'very', 'or', 'our', 'itself', 't', 'wasn', 'when', 'they', 'that', 'out', 'them', 'we', 'o', 'who', 's', 'having', 'aren', 'myself', 'any', 'nor', 'these', 'as', 'to', 'further', 'by', \"it's\", 'll', 'with', 'above', 'its', 'here', 'ma', \"she's\", 'then', 'am', 'wouldn', 'why', 'it', 'below', 'being', 'few', 'can', 'should', 'him', 'needn', 'into', 'don', 'did', 'just', 'in', 'had', 'a', 'ours', 'hadn', 'under', 'than', 'both', 'again', 'her', 'an', 'most', 'his', 'whom', 're', 'only', 'doesn', \"haven't\", 'isn', 'this', 'such', 'once', 'mustn', 'hasn', 'ourselves', \"that'll\", 'didn', \"needn't\", 'so', 'their', 'through', 'been', 'your', 'up', 'same', 'now', 'd', 'at', 'my', 'if', 'shan', 'y', 'which', 'he', 'the', 'be', 'between', 'yours', 'mightn', 'against', 'on', 'me', 'shouldn', 'themselves', 'after', 'you', 'has', 'and', 'where', 'too', 'himself', 'hers', 'for', 'have', 'each'}\n"
          ],
          "name": "stdout"
        }
      ]
    },
    {
      "cell_type": "markdown",
      "metadata": {
        "id": "oVxXoHG7h6qY",
        "colab_type": "text"
      },
      "source": [
        "## **DATA-PREPROCESSING FUNCTION**"
      ]
    },
    {
      "cell_type": "code",
      "metadata": {
        "id": "aQMdzmuDh6zx",
        "colab_type": "code",
        "colab": {}
      },
      "source": [
        "def preprocess(text):\n",
        "  stopwords = {'such', 'each', 'doesn', 'herself', 'been', 'was', 've', 'at', 'before', 'they', 'he', 'all','t', 'wouldn', 'ain', 'the', 'doing', 'so', 'couldn', \n",
        "                'ours', 'wasn', 'having', 'your', 'up','do', 're', 'be', 'weren', 'hadn', 'should', 'nor', 'and', 'hers', 'won', 'why', 'i', 'mustn', \n",
        "                'don', 'those', 'other', 'her', 'very', 'an', 'just', 'any', 'through', 'himself', 'where','while', 'only', 'ma', 'between', 'from', \"you've\",\n",
        "                'in', 'by', 'were', 'to', 'itself', 'how', 'no', 'own', 'too', 'when', 'hasn', 'aren', 'needn','a', 'which', 'shan', 'him', 'if', 'had', \"should've\", \n",
        "                'there', 'haven', 'have', 'd', 'most', 'mightn', 'yourself', 'this', 'about', 'them', 'who','being', 'whom', 'we', 'our', 'my', 'll', 'not', 'above', \n",
        "                's', 'until', 'o', \"haven't\", 'with', \"you're\", \"mustn't\", 'themselves', \"it's\", 'shouldn', \"you'd\", 'it', 'its', 'both', 'than', 'm', 'that', 'will', \n",
        "                'as', 'isn', 'myself', 'yours', 'out', 'she', 'ourselves', 'theirs', 'are', 'few', 'has', 'but', 'into', 'here', 'after', 'you', 'off', \"she's\", 'then', \n",
        "                \"you'll\", 'y', 'me', 'during', 'again', 'against', 'what', 'is', 'because', 'down','some', 'of', 'or', 'once', 'more', \"that'll\", 'under', 'for', 'can',\n",
        "                'am', 'further', 'these', \"needn't\", 'on', 'did', 'now','below', \"isn't\", 'his', 'their', 'didn', 'yourselves', 'does', 'over', 'same', \"mightn't\",}\n",
        "  lemma = WordNetLemmatizer()\n",
        "  pattern = '[#?“\"\",.!0-9$\\[\\]/\\}#=<>\"\\'*:,|_~;()^-]'\n",
        "  words = text.split()\n",
        "  sentence= \"\"\n",
        "  for i in words:\n",
        "    #https://stackoverflow.com/questions/19859282/check-if-a-string-contains-a-number\n",
        "    if((any(l.isdigit() for l in i)) or (i in stopwords) or len(i)<3 or i[0]==\"@\"):\n",
        "      continue\n",
        "    w=''\n",
        "    for j in i:\n",
        "      if(re.match(pattern,j)):\n",
        "        continue\n",
        "      else:\n",
        "        w=w+j\n",
        "    i=w\n",
        "    i=i.lower()\n",
        "    i=lemma.lemmatize(i)\n",
        "    sentence=sentence+i+\" \"\n",
        "  return sentence.strip()"
      ],
      "execution_count": 0,
      "outputs": []
    },
    {
      "cell_type": "markdown",
      "metadata": {
        "id": "Vrmfs_nylL2k",
        "colab_type": "text"
      },
      "source": [
        "## **APPLYING DATA-PREPROCESSING FUNCTION TO EVERY TWEET OF TRAIN AND TEST DATA**"
      ]
    },
    {
      "cell_type": "code",
      "metadata": {
        "id": "n9BmKF-2lajh",
        "colab_type": "code",
        "colab": {}
      },
      "source": [
        "train_data['Tweet'] = train_data.Tweet.apply(preprocess)\n",
        "test_data['Tweet'] = test_data.Tweet.apply(preprocess)"
      ],
      "execution_count": 0,
      "outputs": []
    },
    {
      "cell_type": "markdown",
      "metadata": {
        "id": "wsR_Wb3SnycS",
        "colab_type": "text"
      },
      "source": [
        "## **TRAIN DATA AFTER PREPROCESSING**"
      ]
    },
    {
      "cell_type": "code",
      "metadata": {
        "id": "5lH061-xm2ht",
        "colab_type": "code",
        "outputId": "fb945fd0-875b-4c20-e6ab-44ee2f10284a",
        "colab": {
          "base_uri": "https://localhost:8080/",
          "height": 195
        }
      },
      "source": [
        "train_data.head()"
      ],
      "execution_count": 14,
      "outputs": [
        {
          "output_type": "execute_result",
          "data": {
            "text/html": [
              "<div>\n",
              "<style scoped>\n",
              "    .dataframe tbody tr th:only-of-type {\n",
              "        vertical-align: middle;\n",
              "    }\n",
              "\n",
              "    .dataframe tbody tr th {\n",
              "        vertical-align: top;\n",
              "    }\n",
              "\n",
              "    .dataframe thead th {\n",
              "        text-align: right;\n",
              "    }\n",
              "</style>\n",
              "<table border=\"1\" class=\"dataframe\">\n",
              "  <thead>\n",
              "    <tr style=\"text-align: right;\">\n",
              "      <th></th>\n",
              "      <th>Tweet</th>\n",
              "      <th>Target</th>\n",
              "      <th>Stance</th>\n",
              "      <th>Opinion Towards</th>\n",
              "      <th>Sentiment</th>\n",
              "    </tr>\n",
              "  </thead>\n",
              "  <tbody>\n",
              "    <tr>\n",
              "      <th>0</th>\n",
              "      <td>and handovertheserver wiped clean deleted emai...</td>\n",
              "      <td>Hillary Clinton</td>\n",
              "      <td>AGAINST</td>\n",
              "      <td>1.  The tweet explicitly expresses opinion abo...</td>\n",
              "      <td>neg</td>\n",
              "    </tr>\n",
              "    <tr>\n",
              "      <th>1</th>\n",
              "      <td>hillary best choice truly want continue progre...</td>\n",
              "      <td>Hillary Clinton</td>\n",
              "      <td>FAVOR</td>\n",
              "      <td>1.  The tweet explicitly expresses opinion abo...</td>\n",
              "      <td>pos</td>\n",
              "    </tr>\n",
              "    <tr>\n",
              "      <th>2</th>\n",
              "      <td>think country ready female pres cant ever hillary</td>\n",
              "      <td>Hillary Clinton</td>\n",
              "      <td>AGAINST</td>\n",
              "      <td>1.  The tweet explicitly expresses opinion abo...</td>\n",
              "      <td>neg</td>\n",
              "    </tr>\n",
              "    <tr>\n",
              "      <th>3</th>\n",
              "      <td>gave unhealthy amount hardearned money away bi...</td>\n",
              "      <td>Hillary Clinton</td>\n",
              "      <td>AGAINST</td>\n",
              "      <td>1.  The tweet explicitly expresses opinion abo...</td>\n",
              "      <td>neg</td>\n",
              "    </tr>\n",
              "    <tr>\n",
              "      <th>4</th>\n",
              "      <td>thank adding list</td>\n",
              "      <td>Hillary Clinton</td>\n",
              "      <td>NONE</td>\n",
              "      <td>3.  The tweet is not explicitly expressing opi...</td>\n",
              "      <td>pos</td>\n",
              "    </tr>\n",
              "  </tbody>\n",
              "</table>\n",
              "</div>"
            ],
            "text/plain": [
              "                                               Tweet  ... Sentiment\n",
              "0  and handovertheserver wiped clean deleted emai...  ...       neg\n",
              "1  hillary best choice truly want continue progre...  ...       pos\n",
              "2  think country ready female pres cant ever hillary  ...       neg\n",
              "3  gave unhealthy amount hardearned money away bi...  ...       neg\n",
              "4                                  thank adding list  ...       pos\n",
              "\n",
              "[5 rows x 5 columns]"
            ]
          },
          "metadata": {
            "tags": []
          },
          "execution_count": 14
        }
      ]
    },
    {
      "cell_type": "markdown",
      "metadata": {
        "id": "xfmXBz2Cn7dM",
        "colab_type": "text"
      },
      "source": [
        "## **TEST DATA AFTER PREPROCESSING**"
      ]
    },
    {
      "cell_type": "code",
      "metadata": {
        "id": "F3O9hqvPlxpx",
        "colab_type": "code",
        "outputId": "9d4ff349-af09-4d9d-9e41-6a04ef507df6",
        "colab": {
          "base_uri": "https://localhost:8080/",
          "height": 195
        }
      },
      "source": [
        "test_data.head()"
      ],
      "execution_count": 15,
      "outputs": [
        {
          "output_type": "execute_result",
          "data": {
            "text/html": [
              "<div>\n",
              "<style scoped>\n",
              "    .dataframe tbody tr th:only-of-type {\n",
              "        vertical-align: middle;\n",
              "    }\n",
              "\n",
              "    .dataframe tbody tr th {\n",
              "        vertical-align: top;\n",
              "    }\n",
              "\n",
              "    .dataframe thead th {\n",
              "        text-align: right;\n",
              "    }\n",
              "</style>\n",
              "<table border=\"1\" class=\"dataframe\">\n",
              "  <thead>\n",
              "    <tr style=\"text-align: right;\">\n",
              "      <th></th>\n",
              "      <th>Tweet</th>\n",
              "      <th>Target</th>\n",
              "      <th>Stance</th>\n",
              "      <th>Opinion Towards</th>\n",
              "      <th>Sentiment</th>\n",
              "    </tr>\n",
              "  </thead>\n",
              "  <tbody>\n",
              "    <tr>\n",
              "      <th>0</th>\n",
              "      <td>exalts shall humbled humbles shall exaltedmatt...</td>\n",
              "      <td>Atheism</td>\n",
              "      <td>AGAINST</td>\n",
              "      <td>1.  The tweet explicitly expresses opinion abo...</td>\n",
              "      <td>pos</td>\n",
              "    </tr>\n",
              "    <tr>\n",
              "      <th>1</th>\n",
              "      <td>remove nehushtan previous move god become idol...</td>\n",
              "      <td>Atheism</td>\n",
              "      <td>AGAINST</td>\n",
              "      <td>1.  The tweet explicitly expresses opinion abo...</td>\n",
              "      <td>other</td>\n",
              "    </tr>\n",
              "    <tr>\n",
              "      <th>2</th>\n",
              "      <td>sought truth soul found strong enough stand me...</td>\n",
              "      <td>Atheism</td>\n",
              "      <td>AGAINST</td>\n",
              "      <td>1.  The tweet explicitly expresses opinion abo...</td>\n",
              "      <td>pos</td>\n",
              "    </tr>\n",
              "    <tr>\n",
              "      <th>3</th>\n",
              "      <td>god utterly powerless without human interventi...</td>\n",
              "      <td>Atheism</td>\n",
              "      <td>AGAINST</td>\n",
              "      <td>1.  The tweet explicitly expresses opinion abo...</td>\n",
              "      <td>neg</td>\n",
              "    </tr>\n",
              "    <tr>\n",
              "      <th>4</th>\n",
              "      <td>miracle multiculturalism miracle shady taqiya ...</td>\n",
              "      <td>Atheism</td>\n",
              "      <td>AGAINST</td>\n",
              "      <td>2. The tweet does NOT expresses opinion about ...</td>\n",
              "      <td>neg</td>\n",
              "    </tr>\n",
              "  </tbody>\n",
              "</table>\n",
              "</div>"
            ],
            "text/plain": [
              "                                               Tweet  ... Sentiment\n",
              "0  exalts shall humbled humbles shall exaltedmatt...  ...       pos\n",
              "1  remove nehushtan previous move god become idol...  ...     other\n",
              "2  sought truth soul found strong enough stand me...  ...       pos\n",
              "3  god utterly powerless without human interventi...  ...       neg\n",
              "4  miracle multiculturalism miracle shady taqiya ...  ...       neg\n",
              "\n",
              "[5 rows x 5 columns]"
            ]
          },
          "metadata": {
            "tags": []
          },
          "execution_count": 15
        }
      ]
    },
    {
      "cell_type": "markdown",
      "metadata": {
        "id": "ssrTPJeXZJ5M",
        "colab_type": "text"
      },
      "source": [
        "## **CONVERTING THE TWEETS OF TRAINING DATA INTO BAG OF WORDS REPRESENTATION AND PERFORMING ONE HOT ENCODING OF STANCE FEATURES**"
      ]
    },
    {
      "cell_type": "code",
      "metadata": {
        "id": "AuQec-LJWVim",
        "colab_type": "code",
        "outputId": "20abdeff-8403-4c91-a989-8776e7d231e8",
        "colab": {
          "base_uri": "https://localhost:8080/",
          "height": 34
        }
      },
      "source": [
        "bow = CountVectorizer(min_df=50,max_features=1000) \n",
        "type(bow.fit_transform(train_data['Tweet']))"
      ],
      "execution_count": 0,
      "outputs": [
        {
          "output_type": "execute_result",
          "data": {
            "text/plain": [
              "scipy.sparse.csr.csr_matrix"
            ]
          },
          "metadata": {
            "tags": []
          },
          "execution_count": 284
        }
      ]
    },
    {
      "cell_type": "code",
      "metadata": {
        "id": "UXX5Jz1tZJ5N",
        "colab_type": "code",
        "outputId": "d85817f4-57e8-4f0d-8de8-429e9e538e53",
        "colab": {
          "base_uri": "https://localhost:8080/",
          "height": 34
        }
      },
      "source": [
        "bow = CountVectorizer(max_features=2000) \n",
        "x_train_bow = bow.fit_transform(train_data['Tweet'])\n",
        "x_train_oh = np.array(pd.get_dummies(train_data['Target']))\n",
        "\n",
        "x_train_bow_norm = normalize(x_train_bow,axis=0)\n",
        "\n",
        "x_test_bow = bow.transform(test_data['Tweet'])\n",
        "x_test_oh = np.array(pd.get_dummies(test_data['Target']))\n",
        "\n",
        "x_test_bow_norm = normalize(x_test_bow,axis=0)\n",
        "\n",
        "print(x_train_bow_norm.shape,x_train_oh.shape,x_test_bow_norm.shape,x_test_oh.shape)"
      ],
      "execution_count": 0,
      "outputs": [
        {
          "output_type": "stream",
          "text": [
            "(2914, 2000) (2914, 5) (1249, 2000) (1249, 5)\n"
          ],
          "name": "stdout"
        }
      ]
    },
    {
      "cell_type": "markdown",
      "metadata": {
        "id": "KxpKgJ71sXaX",
        "colab_type": "text"
      },
      "source": [
        "## **CONCATENATING TWO ARRAYS OF BOWS FEATURES AND ONE-HOT ENCODING FEATURES**"
      ]
    },
    {
      "cell_type": "code",
      "metadata": {
        "id": "g_5Pej_yV48T",
        "colab_type": "code",
        "outputId": "271fc74e-eabf-4eea-aab0-bec1392f10be",
        "colab": {
          "base_uri": "https://localhost:8080/",
          "height": 34
        }
      },
      "source": [
        "x_train = np.hstack((x_train_bow_norm.toarray(),x_train_oh)) \n",
        "x_test = np.hstack((x_test_bow_norm.toarray(),x_test_oh)) \n",
        "\n",
        "print(x_train.shape,x_test.shape)"
      ],
      "execution_count": 0,
      "outputs": [
        {
          "output_type": "stream",
          "text": [
            "(2914, 2005) (1249, 2005)\n"
          ],
          "name": "stdout"
        }
      ]
    },
    {
      "cell_type": "markdown",
      "metadata": {
        "id": "nfqKIYVwsmZf",
        "colab_type": "text"
      },
      "source": [
        "## **MODIFYING THE CLASS LABELS OF INTO NUMERICALS**"
      ]
    },
    {
      "cell_type": "code",
      "metadata": {
        "id": "yskdApHSomyA",
        "colab_type": "code",
        "colab": {}
      },
      "source": [
        "def modify_labels(text):\n",
        "  if(text == \"AGAINST\" ):\n",
        "    return 0\n",
        "  if(text == \"NONE\" ):\n",
        "    return 1\n",
        "  if(text == \"FAVOR\" ):\n",
        "    return 2"
      ],
      "execution_count": 0,
      "outputs": []
    },
    {
      "cell_type": "code",
      "metadata": {
        "id": "prJWaxPIpNlx",
        "colab_type": "code",
        "outputId": "0e392d74-face-428b-f055-3be26c07d254",
        "colab": {
          "base_uri": "https://localhost:8080/",
          "height": 34
        }
      },
      "source": [
        "y_train = train_data.Stance.apply(modify_labels)\n",
        "y_test = test_data.Stance.apply(modify_labels)\n",
        "print(y_train.shape,y_test.shape)"
      ],
      "execution_count": 20,
      "outputs": [
        {
          "output_type": "stream",
          "text": [
            "(2914,) (1249,)\n"
          ],
          "name": "stdout"
        }
      ]
    },
    {
      "cell_type": "markdown",
      "metadata": {
        "id": "Rnsce1R5ZJ5q",
        "colab_type": "text"
      },
      "source": [
        "## **IMPLEMENTATION OF NAIVE BAYES**"
      ]
    },
    {
      "cell_type": "code",
      "metadata": {
        "id": "s-ZXaxc2ZJ5r",
        "colab_type": "code",
        "colab": {}
      },
      "source": [
        "#https://scikit-learn.org/stable/modules/generated/sklearn.naive_bayes.MultinomialNB.html\n",
        "hypm_alpha = [0.00001,0.0001,0.001,0.01,0.1,1,10,100,1000]\n",
        "#trying out with various smoothing factors..\n",
        "f1scores=[]\n",
        "for i in hypm_alpha:\n",
        "    nb = MultinomialNB(alpha=i)\n",
        "    nb.fit(x_train,y_train)\n",
        "    prediction = nb.predict(x_test)\n",
        "    score = metrics.f1_score(y_test,prediction,average='macro')\n",
        "    f1scores.append(score)"
      ],
      "execution_count": 0,
      "outputs": []
    },
    {
      "cell_type": "code",
      "metadata": {
        "id": "pVUXjdj0ZJ5x",
        "colab_type": "code",
        "outputId": "43f15fe4-8da3-4320-834a-0d680ca15d52",
        "colab": {
          "base_uri": "https://localhost:8080/",
          "height": 34
        }
      },
      "source": [
        "print(f1scores)"
      ],
      "execution_count": 0,
      "outputs": [
        {
          "output_type": "stream",
          "text": [
            "[0.4790146412631864, 0.4801239774373902, 0.4863242647926332, 0.4891584804543479, 0.5026999811982312, 0.4779400279233254, 0.43702283766360406, 0.4348285602674409, 0.2427019687712152]\n"
          ],
          "name": "stdout"
        }
      ]
    },
    {
      "cell_type": "markdown",
      "metadata": {
        "id": "HELuDaCZZJ51",
        "colab_type": "text"
      },
      "source": [
        "## **SMOOTHING FACTORS v/s F1 SCORES**"
      ]
    },
    {
      "cell_type": "code",
      "metadata": {
        "id": "mUPP7hWiZJ53",
        "colab_type": "code",
        "outputId": "d5d8e178-ab10-4f1a-84f9-2bf3628398ce",
        "colab": {
          "base_uri": "https://localhost:8080/",
          "height": 296
        }
      },
      "source": [
        "from  matplotlib import pyplot\n",
        "pyplot.plot(hypm_alpha,f1scores)\n",
        "pyplot.xlabel(\"SMOOTHENING - FACTORS\")\n",
        "pyplot.ylabel(\"F1 - SCORES\")\n",
        "pyplot.show()\n",
        "print(f1scores)"
      ],
      "execution_count": 0,
      "outputs": [
        {
          "output_type": "display_data",
          "data": {
            "image/png": "[encoded data removed]",
            "text/plain": [
              "<Figure size 432x288 with 1 Axes>"
            ]
          },
          "metadata": {
            "tags": []
          }
        },
        {
          "output_type": "stream",
          "text": [
            "[0.4790146412631864, 0.4801239774373902, 0.4863242647926332, 0.4891584804543479, 0.5026999811982312, 0.4779400279233254, 0.43702283766360406, 0.4348285602674409, 0.2427019687712152]\n"
          ],
          "name": "stdout"
        }
      ]
    },
    {
      "cell_type": "markdown",
      "metadata": {
        "id": "erp4svyoZJ58",
        "colab_type": "text"
      },
      "source": [
        "# **THE OPTIMAL SMOOTHENING FACTOR IS 0.1**"
      ]
    },
    {
      "cell_type": "markdown",
      "metadata": {
        "id": "mDrzGpUwZJ6D",
        "colab_type": "text"
      },
      "source": [
        "# **THE F-1 SCORE ON TEST DATA USING NAIVE BAYES WITH OPTIMAL SMOOTHENING PARAMETER OF 0.1 IS 50.2%**"
      ]
    },
    {
      "cell_type": "code",
      "metadata": {
        "id": "Bc3fQZtquDGy",
        "colab_type": "code",
        "colab": {}
      },
      "source": [
        "train_data['ModTweet'] = \"a\"\n",
        "for i in range(0,len(train_data)):\n",
        "  train_data['ModTweet'][i] = train_data.iloc[i,0]+\" <tar>\"+train_data.iloc[i,1].replace(\" \",\"\")"
      ],
      "execution_count": 0,
      "outputs": []
    },
    {
      "cell_type": "code",
      "metadata": {
        "id": "khrgmwY15XGu",
        "colab_type": "code",
        "colab": {}
      },
      "source": [
        "test_data['ModTweet'] = \"a\"\n",
        "for i in range(0,len(test_data)):\n",
        "  test_data['ModTweet'][i] = test_data.iloc[i,0]+\" <tar>\"+test_data.iloc[i,1].replace(\" \",\"\")"
      ],
      "execution_count": 0,
      "outputs": []
    },
    {
      "cell_type": "code",
      "metadata": {
        "id": "K9LkuN-B5uxq",
        "colab_type": "code",
        "colab": {}
      },
      "source": [
        "x_train_lstm = train_data['ModTweet'].copy()\n",
        "y_train_lstm = y_train.copy()\n",
        "x_test_lstm  = test_data['ModTweet'].copy()\n",
        "y_test_lstm  = y_test.copy()"
      ],
      "execution_count": 0,
      "outputs": []
    },
    {
      "cell_type": "code",
      "metadata": {
        "id": "oPDo81Qf6vKk",
        "colab_type": "code",
        "colab": {}
      },
      "source": [
        "def vocab_gen(data):\n",
        "  vocab={}\n",
        "  for i in data:\n",
        "    for j in i.split():\n",
        "      if j not in vocab:\n",
        "        vocab[j]=1\n",
        "      else:\n",
        "        vocab[j]+=1\n",
        "  return vocab"
      ],
      "execution_count": 0,
      "outputs": []
    },
    {
      "cell_type": "code",
      "metadata": {
        "id": "vrMPfMHd7mnC",
        "colab_type": "code",
        "colab": {}
      },
      "source": [
        "vocab_train = vocab_gen(x_train_lstm)\n",
        "vocab_test = vocab_gen(x_test_lstm)\n",
        "vocab_train_mod = sorted(vocab_train, key=vocab_train.get, reverse=True)"
      ],
      "execution_count": 0,
      "outputs": []
    },
    {
      "cell_type": "markdown",
      "metadata": {
        "id": "PTcG45Q3dNKV",
        "colab_type": "text"
      },
      "source": [
        "## **FUNCTION DEFINITION FOR CONVERTING SENTENCE TO NUMERICS** ##"
      ]
    },
    {
      "cell_type": "code",
      "metadata": {
        "id": "F3z8m9JN8yxM",
        "colab_type": "code",
        "colab": {}
      },
      "source": [
        "def sent_to_vector(tweet,data_vocab,type_data):\n",
        "  sent = []\n",
        "  for i in tweet.split():\n",
        "    if(type_data==\"train\"):\n",
        "        sent.append((data_vocab.index(i))+1)\n",
        "    if(type_data==\"test\"):\n",
        "      if(i in data_vocab):\n",
        "          sent.append((data_vocab.index(i))+1)\n",
        "      else:\n",
        "        continue\n",
        "  return sent"
      ],
      "execution_count": 0,
      "outputs": []
    },
    {
      "cell_type": "markdown",
      "metadata": {
        "id": "pGZlD14PdZ2t",
        "colab_type": "text"
      },
      "source": [
        "## **FUNCTION CALLING FOR \"sent_to_vector()\" on TRAIN AND TEST DATA SETS** ##"
      ]
    },
    {
      "cell_type": "code",
      "metadata": {
        "id": "cA-GtK4U-AWy",
        "colab_type": "code",
        "outputId": "1f14a77a-72fa-48ce-9639-9ec234b41f1b",
        "colab": {
          "base_uri": "https://localhost:8080/",
          "height": 50
        }
      },
      "source": [
        "x_train_lis=[]\n",
        "for i in tqdm(range(len(x_train_lstm)),position=0):\n",
        "  x_train_lis.append(sent_to_vector(x_train_lstm.iloc[i],vocab_train_mod,\"train\"))\n",
        "\n",
        "x_train_arr = np.array(x_train_lis)\n",
        "\n",
        "x_test_lis=[]\n",
        "for i in tqdm(range(len(x_test_lstm)),position=0):\n",
        "  x_test_lis.append(sent_to_vector(x_test_lstm.iloc[i],vocab_train_mod,\"test\"))\n",
        "\n",
        "x_test_arr = np.array(x_test_lis)"
      ],
      "execution_count": 28,
      "outputs": [
        {
          "output_type": "stream",
          "text": [
            "100%|██████████| 2914/2914 [00:00<00:00, 5399.66it/s]\n",
            "100%|██████████| 1249/1249 [00:00<00:00, 2981.78it/s]\n"
          ],
          "name": "stderr"
        }
      ]
    },
    {
      "cell_type": "markdown",
      "metadata": {
        "id": "5kubF5xTa9N0",
        "colab_type": "text"
      },
      "source": [
        "## **PERFORMING PADDING MAKING VECTOR LENGTH EQUAL**"
      ]
    },
    {
      "cell_type": "code",
      "metadata": {
        "id": "ioUeS08rKN2k",
        "colab_type": "code",
        "colab": {}
      },
      "source": [
        "x_train_arr = sequence.pad_sequences(x_train_arr, maxlen=30)\n",
        "x_test_arr = sequence.pad_sequences(x_test_arr, maxlen=30)"
      ],
      "execution_count": 0,
      "outputs": []
    },
    {
      "cell_type": "code",
      "metadata": {
        "id": "uPObHxfhLM7U",
        "colab_type": "code",
        "outputId": "5f91d9c3-1de2-4955-9c5a-f396aa1fa30f",
        "colab": {
          "base_uri": "https://localhost:8080/",
          "height": 168
        }
      },
      "source": [
        "pip install keras_metrics"
      ],
      "execution_count": 34,
      "outputs": [
        {
          "output_type": "stream",
          "text": [
            "Requirement already satisfied: keras_metrics in /usr/local/lib/python3.6/dist-packages (1.1.0)\n",
            "Requirement already satisfied: Keras>=2.1.5 in /usr/local/lib/python3.6/dist-packages (from keras_metrics) (2.2.5)\n",
            "Requirement already satisfied: h5py in /usr/local/lib/python3.6/dist-packages (from Keras>=2.1.5->keras_metrics) (2.8.0)\n",
            "Requirement already satisfied: numpy>=1.9.1 in /usr/local/lib/python3.6/dist-packages (from Keras>=2.1.5->keras_metrics) (1.17.4)\n",
            "Requirement already satisfied: pyyaml in /usr/local/lib/python3.6/dist-packages (from Keras>=2.1.5->keras_metrics) (3.13)\n",
            "Requirement already satisfied: six>=1.9.0 in /usr/local/lib/python3.6/dist-packages (from Keras>=2.1.5->keras_metrics) (1.12.0)\n",
            "Requirement already satisfied: keras-preprocessing>=1.1.0 in /usr/local/lib/python3.6/dist-packages (from Keras>=2.1.5->keras_metrics) (1.1.0)\n",
            "Requirement already satisfied: keras-applications>=1.0.8 in /usr/local/lib/python3.6/dist-packages (from Keras>=2.1.5->keras_metrics) (1.0.8)\n",
            "Requirement already satisfied: scipy>=0.14 in /usr/local/lib/python3.6/dist-packages (from Keras>=2.1.5->keras_metrics) (1.3.2)\n"
          ],
          "name": "stdout"
        }
      ]
    },
    {
      "cell_type": "markdown",
      "metadata": {
        "id": "lG9IEZUTa2z5",
        "colab_type": "text"
      },
      "source": [
        "## **LSTM ARCHITECTURE** ##"
      ]
    },
    {
      "cell_type": "code",
      "metadata": {
        "id": "jPPlrcZVIDbJ",
        "colab_type": "code",
        "outputId": "01976afd-9c70-40fe-9db2-af03623f47b1",
        "colab": {
          "base_uri": "https://localhost:8080/",
          "height": 806
        }
      },
      "source": [
        "#ref::https://keras.io/examples/imdb_lstm/\n",
        "import keras_metrics\n",
        "import keras\n",
        "model = Sequential()\n",
        "model.add(Embedding(10174,64,input_length=30)) #taking whole length of vocab\n",
        "model.add(LSTM(12))\n",
        "model.add(Dropout(0.8))\n",
        "model.add(Dense(3, activation='softmax'))\n",
        "model.compile(loss='categorical_crossentropy', optimizer='adam', metrics=[keras_metrics.precision(),keras_metrics.recall()])\n",
        "values=model.fit(x_train_arr,keras.utils.to_categorical(y_train_lstm, num_classes=3),nb_epoch=23,batch_size=500)"
      ],
      "execution_count": 42,
      "outputs": [
        {
          "output_type": "stream",
          "text": [
            "WARNING:tensorflow:Large dropout rate: 0.8 (>0.5). In TensorFlow 2.x, dropout() uses dropout rate instead of keep_prob. Please ensure that this is intended.\n",
            "Epoch 1/23\n",
            "2914/2914 [==============================] - 1s 336us/step - loss: 1.0983 - precision: 0.0000e+00 - recall: 0.0000e+00\n",
            "Epoch 2/23\n",
            "2914/2914 [==============================] - 0s 129us/step - loss: 1.0851 - precision: 0.0000e+00 - recall: 0.0000e+00\n",
            "Epoch 3/23\n",
            "2914/2914 [==============================] - 0s 133us/step - loss: 1.0741 - precision: 1.0000 - recall: 0.0022\n",
            "Epoch 4/23\n",
            "2914/2914 [==============================] - 0s 133us/step - loss: 1.0608 - precision: 0.8182 - recall: 0.0194\n",
            "Epoch 5/23\n",
            "2914/2914 [==============================] - 0s 128us/step - loss: 1.0504 - precision: 0.7047 - recall: 0.0975\n",
            "Epoch 6/23\n",
            "2914/2914 [==============================] - 0s 130us/step - loss: 1.0392 - precision: 0.6463 - recall: 0.1821\n",
            "Epoch 7/23\n",
            "2914/2914 [==============================] - 0s 131us/step - loss: 1.0241 - precision: 0.6634 - recall: 0.2896\n",
            "Epoch 8/23\n",
            "2914/2914 [==============================] - 0s 134us/step - loss: 1.0118 - precision: 0.6799 - recall: 0.3685\n",
            "Epoch 9/23\n",
            "2914/2914 [==============================] - 0s 128us/step - loss: 0.9869 - precision: 0.7209 - recall: 0.4222\n",
            "Epoch 10/23\n",
            "2914/2914 [==============================] - 0s 127us/step - loss: 0.9645 - precision: 0.7872 - recall: 0.4588\n",
            "Epoch 11/23\n",
            "2914/2914 [==============================] - 0s 139us/step - loss: 0.9274 - precision: 0.8337 - recall: 0.5247\n",
            "Epoch 12/23\n",
            "2914/2914 [==============================] - 0s 125us/step - loss: 0.8852 - precision: 0.8487 - recall: 0.6194\n",
            "Epoch 13/23\n",
            "2914/2914 [==============================] - 0s 132us/step - loss: 0.8326 - precision: 0.8632 - recall: 0.7190\n",
            "Epoch 14/23\n",
            "2914/2914 [==============================] - 0s 131us/step - loss: 0.7747 - precision: 0.9058 - recall: 0.7785\n",
            "Epoch 15/23\n",
            "2914/2914 [==============================] - 0s 135us/step - loss: 0.7235 - precision: 0.9290 - recall: 0.7978\n",
            "Epoch 16/23\n",
            "2914/2914 [==============================] - 0s 136us/step - loss: 0.6639 - precision: 0.9533 - recall: 0.8186\n",
            "Epoch 17/23\n",
            "2914/2914 [==============================] - 0s 129us/step - loss: 0.6335 - precision: 0.9542 - recall: 0.8509\n",
            "Epoch 18/23\n",
            "2914/2914 [==============================] - 0s 128us/step - loss: 0.6094 - precision: 0.9683 - recall: 0.8552\n",
            "Epoch 19/23\n",
            "2914/2914 [==============================] - 0s 127us/step - loss: 0.5773 - precision: 0.9884 - recall: 0.8588\n",
            "Epoch 20/23\n",
            "2914/2914 [==============================] - 0s 126us/step - loss: 0.5550 - precision: 0.9624 - recall: 0.8989\n",
            "Epoch 21/23\n",
            "2914/2914 [==============================] - 0s 132us/step - loss: 0.5434 - precision: 0.9904 - recall: 0.8910\n",
            "Epoch 22/23\n",
            "2914/2914 [==============================] - 0s 133us/step - loss: 0.5272 - precision: 0.9835 - recall: 0.8982\n",
            "Epoch 23/23\n",
            "2914/2914 [==============================] - 0s 127us/step - loss: 0.4910 - precision: 0.9802 - recall: 0.9204\n"
          ],
          "name": "stdout"
        }
      ]
    },
    {
      "cell_type": "code",
      "metadata": {
        "id": "AGBgz-HqIFT4",
        "colab_type": "code",
        "outputId": "7328d411-e53f-4329-df6e-8caebc849290",
        "colab": {
          "base_uri": "https://localhost:8080/",
          "height": 34
        }
      },
      "source": [
        "scores = model.evaluate(x_test_arr,keras.utils.to_categorical(y_test_lstm,num_classes=3), verbose=0)\n",
        "print(\"f1-Score::\",round(100*2*scores[1]*scores[2]/(scores[1]+scores[2]),2))"
      ],
      "execution_count": 0,
      "outputs": [
        {
          "output_type": "stream",
          "text": [
            "f1-Score:: 74.66\n"
          ],
          "name": "stdout"
        }
      ]
    },
    {
      "cell_type": "code",
      "metadata": {
        "id": "t4Mz6FvvHudJ",
        "colab_type": "code",
        "colab": {}
      },
      "source": [
        "## FOR PREDICTION PURPOSES.....yhat = model.predict(x_test_arr, verbose=0)"
      ],
      "execution_count": 0,
      "outputs": []
    },
    {
      "cell_type": "code",
      "metadata": {
        "id": "WHHn4DyC8igA",
        "colab_type": "code",
        "colab": {
          "base_uri": "https://localhost:8080/",
          "height": 295
        },
        "outputId": "ce491246-04c7-4e87-d27a-36f691af3434"
      },
      "source": [
        "plt.figure(figsize=(8,4))\n",
        "plt.plot(values.history['loss'], label='Train Loss')\n",
        "plt.plot(values.history['precision'],label=\"Training Precision Score\")\n",
        "plt.plot(values.history['recall'],label=\"Training Recall Score\")\n",
        "plt.title('EPOCHS V/S LOSS,PRECISION,RECALL')\n",
        "plt.ylabel('loss,precision,recall')\n",
        "plt.xlabel('epochs')\n",
        "plt.legend()\n",
        "plt.show()"
      ],
      "execution_count": 47,
      "outputs": [
        {
          "output_type": "display_data",
          "data": {
            "image/png": "[encoded data removed]",
            "text/plain": [
              "<Figure size 576x288 with 1 Axes>"
            ]
          },
          "metadata": {
            "tags": []
          }
        }
      ]
    },
    {
      "cell_type": "markdown",
      "metadata": {
        "id": "OImbdlzGdzmP",
        "colab_type": "text"
      },
      "source": [
        "# **THE F-1 SCORE ON TEST DATA USING LSTM'S IS 74.66**"
      ]
    },
    {
      "cell_type": "markdown",
      "metadata": {
        "id": "UqPFgk7LbsmH",
        "colab_type": "text"
      },
      "source": [
        "### REFERENCES:: \n",
        "1. https://machinelearningmastery.com/sequence-classification-lstm-recurrent-neural-networks-python-keras/\n",
        "2. My Own SemEval Sentimix Task\n",
        "3. https://keras.io/examples/imdb_lstm/\n",
        "4. https://scikit-learn.org/stable/modules/generated/sklearn.naive_bayes.MultinomialNB.html\n",
        "5.     #https://stackoverflow.com/questions/19859282/check-if-a-string-contains-a-number\n",
        "\n"
      ]
    }
  ]
}